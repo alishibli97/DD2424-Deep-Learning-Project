{
 "cells": [
  {
   "cell_type": "code",
   "execution_count": 12,
   "metadata": {},
   "outputs": [],
   "source": [
    "from unet import *\n",
    "from segmentation_dataset import *\n",
    "from load_data import *"
   ]
  },
  {
   "cell_type": "code",
   "execution_count": 13,
   "metadata": {},
   "outputs": [
    {
     "name": "stdout",
     "output_type": "stream",
     "text": [
      "finished\n"
     ]
    }
   ],
   "source": [
    "#dataloader code\n",
    "\n",
    "import os\n",
    "from torch.utils.data import DataLoader\n",
    "from segmentation_dataset import SegmentationDataset\n",
    "import matplotlib.pyplot as plt\n",
    "import numpy as np\n",
    "import torch\n",
    "\n",
    "from torchvision import datasets, transforms\n",
    "\n",
    "def listdir_nohidden(path):\n",
    "    for f in os.listdir(path):\n",
    "        if not f.startswith('.'):\n",
    "            yield f\n",
    "\n",
    "train_path = \"small_dataset/images/nir/\"\n",
    "val_path = \"small_dataset/images/nir/\"\n",
    "train_labels_path = \"small_dataset/labels/\"\n",
    "\n",
    "train_img_names_index = os.listdir(train_path)\n",
    "val_img_names_index = os.listdir(val_path)\n",
    "\n",
    "labels_one_hot = {}\n",
    "k = 9\n",
    "for i, label in enumerate(listdir_nohidden(train_labels_path)):\n",
    "    labels_one_hot[label] = np.zeros((k,))\n",
    "    labels_one_hot[label][i] = 1\n",
    "\n",
    "train_dataset = SegmentationDataset(train_img_names_index, labels_one_hot)\n",
    "val_dataset = SegmentationDataset(val_img_names_index, labels_one_hot)\n",
    " \n",
    "batch_size = 1\n",
    "shuffle = True\n",
    "dataloader = DataLoader(dataset, batch_size=batch_size, shuffle=shuffle)\n",
    "\n",
    "\n",
    "print(\"finished\")"
   ]
  },
  {
   "cell_type": "code",
   "execution_count": 14,
   "metadata": {},
   "outputs": [],
   "source": [
    "#SETTINGS\n",
    "Use_GPU = True\n",
    "Lr = 0.01\n",
    "channels = 1 # 512*512 #pixels\n",
    "classes = 10 #outputs \n",
    "maxEpochs = 100\n",
    "batch_size = 1\n",
    "shuffle = True\n",
    "\n",
    "#Code \n",
    "if Use_GPU: \n",
    "    if torch.cuda.is_available():\n",
    "        device = torch.device('cuda')\n",
    "    else:\n",
    "        device = torch.device('cpu')\n",
    "else:\n",
    "    device = torch.device('cpu')\n",
    "#initalize model \n",
    "\n",
    "#fix activationfunc, dropout and other settings for model as parameters later \n",
    "\n",
    "model = UNet(channels,classes).to(device)\n",
    "\n",
    "#two different filepaths\n",
    "pathTrain = \"Agriculture-Vision-2021\\train\"\n",
    "pathVal = \"Agriculture-Vision-2021\\val\"\n",
    "\n",
    "trainValRate = 0.7 #not in use\n",
    "lrRatesplan = None #not in use\n",
    "activation = \"relu\" #not in use \n",
    "criterion = torch.nn.CrossEntropyLoss()\n",
    "optimizer = torch.optim.SGD(model.parameters(), Lr)\n",
    "\n",
    "\n",
    "train_dataloader = DataLoader(train_dataset, batch_size=batch_size, shuffle=shuffle)\n",
    "val_dataloader = DataLoader(val_dataset, batch_size=batch_size, shuffle=shuffle)\n",
    "\n",
    "# trainY = SegmentationDataset(train_img_names_index, labels_one_hot)\n",
    "# validateY = SegmentationDataset(train_img_names_index, labels_one_hot)\n"
   ]
  },
  {
   "cell_type": "code",
   "execution_count": 15,
   "metadata": {},
   "outputs": [
    {
     "name": "stdout",
     "output_type": "stream",
     "text": [
      "[1.556969404220581, 26.722137451171875, 29.626319885253906, 1.9812480211257935, 25.28116226196289, 1.4746901988983154, 2.9156031608581543, 47.23603820800781, 1.2361299991607666, 20.968318939208984]\n"
     ]
    }
   ],
   "source": [
    "#trainer class/object?\n",
    "\n",
    "from tqdm import tqdm, trange\n",
    "\n",
    "trainingLoss = []\n",
    "validationLoss = []\n",
    "\n",
    "def itterProgress(x, text = \"training\"):\n",
    "    return tqdm(enumerate(x), text, total = len(x))\n",
    "\n",
    "def run(): \n",
    "    itter = itterProgress(trainX)\n",
    "    for i in range(maxEpochs):\n",
    "        pass      \n",
    "\n",
    "def train(): \n",
    "    \n",
    "    # model.train() #does this even work? \n",
    "\n",
    "    for i, (batch_x, batch_y) in enumerate(train_dataloader):\n",
    "        indata, target = batch_x.to(device), batch_y.to(device)\n",
    "        optimizer.zero_grad()\n",
    "        \n",
    "        indata = indata.unsqueeze(0)\n",
    "\n",
    "        out = model.forward(indata)\n",
    "        # out = model(indata[None, ...])\n",
    "        loss = criterion(out, target)\n",
    "        loss_value = loss.item()\n",
    "\n",
    "        trainingLoss.append(loss_value)\n",
    "\n",
    "        loss.backward()\n",
    "        optimizer.step()\n",
    "\n",
    "train()\n",
    "print(trainingLoss)\n",
    "# def validate: \n"
   ]
  },
  {
   "cell_type": "code",
   "execution_count": null,
   "metadata": {},
   "outputs": [],
   "source": []
  },
  {
   "cell_type": "code",
   "execution_count": null,
   "metadata": {},
   "outputs": [],
   "source": []
  }
 ],
 "metadata": {
  "kernelspec": {
   "display_name": "py38",
   "language": "python",
   "name": "py38"
  },
  "language_info": {
   "codemirror_mode": {
    "name": "ipython",
    "version": 3
   },
   "file_extension": ".py",
   "mimetype": "text/x-python",
   "name": "python",
   "nbconvert_exporter": "python",
   "pygments_lexer": "ipython3",
   "version": "3.8.5"
  },
  "metadata": {
   "interpreter": {
    "hash": "aee8b7b246df8f9039afb4144a1f6fd8d2ca17a180786b69acc140d282b71a49"
   }
  }
 },
 "nbformat": 4,
 "nbformat_minor": 4
}
