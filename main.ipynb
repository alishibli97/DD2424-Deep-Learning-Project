{
 "cells": [
  {
   "cell_type": "code",
   "execution_count": 1,
   "metadata": {},
   "outputs": [
    {
     "name": "stderr",
     "output_type": "stream",
     "text": [
      "2021-05-26 13:41:18.972 | INFO     | segmentation_dataset:__init__:27 - Reading train image 0 out of 10\n",
      "2021-05-26 13:41:19.110 | INFO     | segmentation_dataset:__init__:27 - Reading validation image 0 out of 10\n",
      "2021-05-26 13:41:19.227 | INFO     | segmentation_dataset:__init__:27 - Reading test image 0 out of 10\n"
     ]
    }
   ],
   "source": [
    "# dataloader code\n",
    "from unet import *\n",
    "from segmentation_dataset import SegmentationDataset\n",
    "\n",
    "import matplotlib.pyplot as plt\n",
    "import numpy as np\n",
    "import torch\n",
    "import os\n",
    "from loguru import logger\n",
    "import random\n",
    "\n",
    "from torch.utils.data import DataLoader\n",
    "from torchvision import datasets, transforms\n",
    "from tqdm import tqdm, trange\n",
    "\n",
    "def listdir_nohidden(path):\n",
    "    for f in os.listdir(path):\n",
    "        if not f.startswith('.'):\n",
    "            yield f\n",
    "\n",
    "train_path = \"small_dataset/images/nir/\"\n",
    "val_path = \"small_dataset/images/nir/\"\n",
    "test_path = \"small_dataset/images/nir/\"\n",
    "\n",
    "train_labels_path = \"small_dataset/labels/\"\n",
    "val_labels_path = \"small_dataset/labels/\"\n",
    "test_labels_path = \"small_dataset/labels/\"\n",
    "\n",
    "train = os.listdir(train_path)\n",
    "val = os.listdir(val_path)\n",
    "test = os.listdir(test_path)\n",
    "\n",
    "random.shuffle(train)\n",
    "random.shuffle(val)\n",
    "random.shuffle(test)\n",
    "\n",
    "train_img_names_index = train[:10]\n",
    "val_img_names_index = val[:10]\n",
    "test_img_names_index = test[:10]\n",
    "\n",
    "labels_one_hot = {}\n",
    "k = 8\n",
    "i=0\n",
    "for label in listdir_nohidden(train_labels_path):\n",
    "    if label!=\"storm_damage\":\n",
    "        labels_one_hot[label] = np.zeros((k,))\n",
    "        labels_one_hot[label][i] = 1\n",
    "        i+=1\n",
    "\n",
    "train_dataset = SegmentationDataset(\"train\", train_img_names_index, labels_one_hot, train_path, train_labels_path, use_cache=True)\n",
    "val_dataset = SegmentationDataset(\"validation\", val_img_names_index, labels_one_hot, val_path, val_labels_path, use_cache=True)\n",
    "test_dataset = SegmentationDataset(\"test\", test_img_names_index, labels_one_hot, test_path, test_labels_path, use_cache=True)"
   ]
  },
  {
   "cell_type": "code",
   "execution_count": 2,
   "metadata": {},
   "outputs": [
    {
     "name": "stdout",
     "output_type": "stream",
     "text": [
      "cuda used\n"
     ]
    }
   ],
   "source": [
    "# SETTINGS\n",
    "Use_GPU = True\n",
    "Lr = 1e-3\n",
    "channels = 1  # NIR vs RGB\n",
    "classes = 9  # outputs (9 labels + 1 background)\n",
    "maxEpochs = 10\n",
    "batch_size = 5\n",
    "shuffle = True\n",
    "\n",
    "# Code \n",
    "if Use_GPU: \n",
    "    if torch.cuda.is_available():\n",
    "        device = torch.device('cuda')\n",
    "        print('cuda used')\n",
    "    else:\n",
    "        device = torch.device('cpu')\n",
    "else:\n",
    "    device = torch.device('cpu')\n",
    "# initalize model \n",
    "\n",
    "# fix activationfunc, dropout and other settings for model as parameters later \n",
    "\n",
    "model = UNet(channels, classes).to(device)\n",
    "\n",
    "trainValRate = 0.7  # not in use\n",
    "lrRatesplan = None  # not in use\n",
    "activation = \"relu\"  # not in use \n",
    "\n",
    "class_weights = torch.FloatTensor([1]+[5]*8)#.cuda()\n",
    "criterion = nn.CrossEntropyLoss(weight=class_weights)\n",
    "\n",
    "# criterion = torch.nn.CrossEntropyLoss()#ignore_index=0)\n",
    "optimizer = torch.optim.SGD(model.parameters(), Lr)\n",
    "\n",
    "train_dataloader = DataLoader(train_dataset, batch_size=batch_size, shuffle=shuffle)\n",
    "val_dataloader = DataLoader(val_dataset, batch_size=batch_size)\n",
    "test_dataloader = DataLoader(test_dataset, batch_size=batch_size)"
   ]
  },
  {
   "cell_type": "code",
   "execution_count": 3,
   "metadata": {
    "tags": []
   },
   "outputs": [],
   "source": [
    "trainingAcc = []\n",
    "trainingLoss = []\n",
    "validationAcc = []\n",
    "validationLoss = []\n",
    "\n",
    "def itterProgress(x, text = \"training\"):\n",
    "    return tqdm(enumerate(x), text, total = len(x))\n",
    "\n",
    "def run(): \n",
    "    # itter = itterProgress(trainX)\n",
    "\n",
    "    for epoch in range(maxEpochs):\n",
    "        train(epoch)\n",
    "\n",
    "    torch.save(model.state_dict(), \"trained_model.pth\")\n",
    "    \n",
    "\n",
    "def train(epoch):\n",
    "    model.train()\n",
    "    for i, (batch_x, batch_y) in enumerate(train_dataloader):\n",
    "        indata, target = batch_x.to(device), batch_y.to(device)\n",
    "        optimizer.zero_grad()\n",
    "        indata = indata.unsqueeze(1)\n",
    "        out = model(indata)\n",
    "        out_softmax = torch.softmax(out, 1)\n",
    "        img = postprocess(out_softmax)\n",
    "        \n",
    "        train_acc = iou(img, target)\n",
    "        loss = criterion(out, target)\n",
    "        train_loss = loss.item()\n",
    "        \n",
    "        trainingAcc.append(train_acc)\n",
    "        trainingLoss.append(train_loss)\n",
    "\n",
    "        loss.backward()\n",
    "        optimizer.step()\n",
    "\n",
    "        val_acc, val_loss = validate()\n",
    "\n",
    "        validationAcc.append(val_acc)\n",
    "        validationLoss.append(val_loss)\n",
    "\n",
    "        logger.info(f\"Epoch {epoch} batch {i+1}/{len(train_dataloader)} loss={train_loss} acc={train_acc} val_loss={val_loss} val_acc={val_acc}\")\n",
    "\n",
    "        if val_loss > np.mean(validationLoss):\n",
    "            print(\"Overfitting detected\")\n",
    "            break\n",
    "\n",
    "def validate():\n",
    "    model.eval()\n",
    "    validationAcc_temp = []\n",
    "    validationLoss_temp = []\n",
    "    for i, (batch_x, batch_y) in enumerate(val_dataloader):\n",
    "        indata, target = batch_x.to(device), batch_y.to(device)\n",
    "        \n",
    "        with torch.no_grad():\n",
    "            indata = indata.unsqueeze(1)\n",
    "            out = model.forward(indata)\n",
    "            out_softmax = torch.softmax(out, 1)\n",
    "            img = postprocess(out_softmax)\n",
    "            \n",
    "            val_acc = iou(img, target)            \n",
    "            loss = criterion(out, target)\n",
    "            val_loss = loss.item()\n",
    "\n",
    "            validationAcc_temp.append(val_acc)\n",
    "            validationLoss_temp.append(val_loss)\n",
    "    \n",
    "    return np.mean(validationAcc_temp),np.mean(validationLoss_temp)\n",
    "\n",
    "def postprocess(img):\n",
    "    img = torch.argmax(img, dim=1)\n",
    "    img = img.cpu().numpy()\n",
    "    img = np.squeeze(img)\n",
    "    img = torch.from_numpy(img).type(torch.int64)\n",
    "    img = img.to(device)\n",
    "    # img = re_normalize(img)\n",
    "    return img\n",
    "\n",
    "def iou(prediction, target):\n",
    "    eps = 0\n",
    "    score = 0\n",
    "\n",
    "    for k in range(1, 10):\n",
    "        intersection = torch.sum((prediction==target) * (target==k)).item()\n",
    "        union = torch.sum(prediction==k).item() + torch.sum(target==k).item()\n",
    "        iou_k = 0 if intersection == 0 else (intersection + eps) / (union + eps)\n",
    "        score += iou_k\n",
    "\n",
    "    score = score / 9\n",
    "    return score"
   ]
  },
  {
   "cell_type": "code",
   "execution_count": null,
   "metadata": {
    "scrolled": true
   },
   "outputs": [],
   "source": [
    "run()"
   ]
  },
  {
   "cell_type": "code",
   "execution_count": 4,
   "metadata": {},
   "outputs": [
    {
     "data": {
      "text/plain": [
       "[<matplotlib.lines.Line2D at 0x7f69e2e822b0>]"
      ]
     },
     "execution_count": 4,
     "metadata": {},
     "output_type": "execute_result"
    },
    {
     "data": {
      "image/png": "[encoded data removed]",
      "text/plain": [
       "<Figure size 432x288 with 1 Axes>"
      ]
     },
     "metadata": {
      "needs_background": "light"
     },
     "output_type": "display_data"
    }
   ],
   "source": [
    "import matplotlib.pyplot as plt\n",
    "plt.plot(validationLoss)\n",
    "plt.plot(trainingLoss)"
   ]
  },
  {
   "cell_type": "code",
   "execution_count": 5,
   "metadata": {},
   "outputs": [
    {
     "data": {
      "text/plain": [
       "[<matplotlib.lines.Line2D at 0x7f69e2e0a6d0>]"
      ]
     },
     "execution_count": 5,
     "metadata": {},
     "output_type": "execute_result"
    },
    {
     "data": {
      "image/png": "[encoded data removed]",
      "text/plain": [
       "<Figure size 432x288 with 1 Axes>"
      ]
     },
     "metadata": {
      "needs_background": "light"
     },
     "output_type": "display_data"
    }
   ],
   "source": [
    "import matplotlib.pyplot as plt\n",
    "plt.plot(validationAcc)\n",
    "plt.plot(trainingAcc)"
   ]
  },
  {
   "cell_type": "code",
   "execution_count": 25,
   "metadata": {},
   "outputs": [
    {
     "ename": "RuntimeError",
     "evalue": "Expected object of device type cuda but got device type cpu for argument #3 'weight' in call to _thnn_nll_loss2d_forward",
     "output_type": "error",
     "traceback": [
      "\u001b[0;31m---------------------------------------------------------------------------\u001b[0m",
      "\u001b[0;31mRuntimeError\u001b[0m                              Traceback (most recent call last)",
      "\u001b[0;32m<ipython-input-25-1b310f35793b>\u001b[0m in \u001b[0;36m<module>\u001b[0;34m\u001b[0m\n\u001b[1;32m     39\u001b[0m     \u001b[0mfig\u001b[0m\u001b[0;34m.\u001b[0m\u001b[0mshow\u001b[0m\u001b[0;34m(\u001b[0m\u001b[0;34m)\u001b[0m\u001b[0;34m\u001b[0m\u001b[0;34m\u001b[0m\u001b[0m\n\u001b[1;32m     40\u001b[0m \u001b[0;34m\u001b[0m\u001b[0m\n\u001b[0;32m---> 41\u001b[0;31m \u001b[0mmodel_val\u001b[0m\u001b[0;34m(\u001b[0m\u001b[0;34m)\u001b[0m\u001b[0;34m\u001b[0m\u001b[0;34m\u001b[0m\u001b[0m\n\u001b[0m",
      "\u001b[0;32m<ipython-input-25-1b310f35793b>\u001b[0m in \u001b[0;36mmodel_val\u001b[0;34m()\u001b[0m\n\u001b[1;32m     19\u001b[0m             \u001b[0mval_acc\u001b[0m \u001b[0;34m=\u001b[0m \u001b[0miou\u001b[0m\u001b[0;34m(\u001b[0m\u001b[0mimg\u001b[0m\u001b[0;34m,\u001b[0m \u001b[0mtarget\u001b[0m\u001b[0;34m)\u001b[0m\u001b[0;34m\u001b[0m\u001b[0;34m\u001b[0m\u001b[0m\n\u001b[1;32m     20\u001b[0m \u001b[0;34m\u001b[0m\u001b[0m\n\u001b[0;32m---> 21\u001b[0;31m             \u001b[0mloss\u001b[0m \u001b[0;34m=\u001b[0m \u001b[0mcriterion\u001b[0m\u001b[0;34m(\u001b[0m\u001b[0mout\u001b[0m\u001b[0;34m,\u001b[0m \u001b[0mtarget\u001b[0m\u001b[0;34m)\u001b[0m\u001b[0;34m\u001b[0m\u001b[0;34m\u001b[0m\u001b[0m\n\u001b[0m\u001b[1;32m     22\u001b[0m             \u001b[0mval_loss\u001b[0m \u001b[0;34m=\u001b[0m \u001b[0mloss\u001b[0m\u001b[0;34m.\u001b[0m\u001b[0mitem\u001b[0m\u001b[0;34m(\u001b[0m\u001b[0;34m)\u001b[0m\u001b[0;34m\u001b[0m\u001b[0;34m\u001b[0m\u001b[0m\n\u001b[1;32m     23\u001b[0m \u001b[0;34m\u001b[0m\u001b[0m\n",
      "\u001b[0;32m~/anaconda3/envs/py38/lib/python3.8/site-packages/torch/nn/modules/module.py\u001b[0m in \u001b[0;36m_call_impl\u001b[0;34m(self, *input, **kwargs)\u001b[0m\n\u001b[1;32m    725\u001b[0m             \u001b[0mresult\u001b[0m \u001b[0;34m=\u001b[0m \u001b[0mself\u001b[0m\u001b[0;34m.\u001b[0m\u001b[0m_slow_forward\u001b[0m\u001b[0;34m(\u001b[0m\u001b[0;34m*\u001b[0m\u001b[0minput\u001b[0m\u001b[0;34m,\u001b[0m \u001b[0;34m**\u001b[0m\u001b[0mkwargs\u001b[0m\u001b[0;34m)\u001b[0m\u001b[0;34m\u001b[0m\u001b[0;34m\u001b[0m\u001b[0m\n\u001b[1;32m    726\u001b[0m         \u001b[0;32melse\u001b[0m\u001b[0;34m:\u001b[0m\u001b[0;34m\u001b[0m\u001b[0;34m\u001b[0m\u001b[0m\n\u001b[0;32m--> 727\u001b[0;31m             \u001b[0mresult\u001b[0m \u001b[0;34m=\u001b[0m \u001b[0mself\u001b[0m\u001b[0;34m.\u001b[0m\u001b[0mforward\u001b[0m\u001b[0;34m(\u001b[0m\u001b[0;34m*\u001b[0m\u001b[0minput\u001b[0m\u001b[0;34m,\u001b[0m \u001b[0;34m**\u001b[0m\u001b[0mkwargs\u001b[0m\u001b[0;34m)\u001b[0m\u001b[0;34m\u001b[0m\u001b[0;34m\u001b[0m\u001b[0m\n\u001b[0m\u001b[1;32m    728\u001b[0m         for hook in itertools.chain(\n\u001b[1;32m    729\u001b[0m                 \u001b[0m_global_forward_hooks\u001b[0m\u001b[0;34m.\u001b[0m\u001b[0mvalues\u001b[0m\u001b[0;34m(\u001b[0m\u001b[0;34m)\u001b[0m\u001b[0;34m,\u001b[0m\u001b[0;34m\u001b[0m\u001b[0;34m\u001b[0m\u001b[0m\n",
      "\u001b[0;32m~/anaconda3/envs/py38/lib/python3.8/site-packages/torch/nn/modules/loss.py\u001b[0m in \u001b[0;36mforward\u001b[0;34m(self, input, target)\u001b[0m\n\u001b[1;32m    959\u001b[0m \u001b[0;34m\u001b[0m\u001b[0m\n\u001b[1;32m    960\u001b[0m     \u001b[0;32mdef\u001b[0m \u001b[0mforward\u001b[0m\u001b[0;34m(\u001b[0m\u001b[0mself\u001b[0m\u001b[0;34m,\u001b[0m \u001b[0minput\u001b[0m\u001b[0;34m:\u001b[0m \u001b[0mTensor\u001b[0m\u001b[0;34m,\u001b[0m \u001b[0mtarget\u001b[0m\u001b[0;34m:\u001b[0m \u001b[0mTensor\u001b[0m\u001b[0;34m)\u001b[0m \u001b[0;34m->\u001b[0m \u001b[0mTensor\u001b[0m\u001b[0;34m:\u001b[0m\u001b[0;34m\u001b[0m\u001b[0;34m\u001b[0m\u001b[0m\n\u001b[0;32m--> 961\u001b[0;31m         return F.cross_entropy(input, target, weight=self.weight,\n\u001b[0m\u001b[1;32m    962\u001b[0m                                ignore_index=self.ignore_index, reduction=self.reduction)\n\u001b[1;32m    963\u001b[0m \u001b[0;34m\u001b[0m\u001b[0m\n",
      "\u001b[0;32m~/anaconda3/envs/py38/lib/python3.8/site-packages/torch/nn/functional.py\u001b[0m in \u001b[0;36mcross_entropy\u001b[0;34m(input, target, weight, size_average, ignore_index, reduce, reduction)\u001b[0m\n\u001b[1;32m   2466\u001b[0m     \u001b[0;32mif\u001b[0m \u001b[0msize_average\u001b[0m \u001b[0;32mis\u001b[0m \u001b[0;32mnot\u001b[0m \u001b[0;32mNone\u001b[0m \u001b[0;32mor\u001b[0m \u001b[0mreduce\u001b[0m \u001b[0;32mis\u001b[0m \u001b[0;32mnot\u001b[0m \u001b[0;32mNone\u001b[0m\u001b[0;34m:\u001b[0m\u001b[0;34m\u001b[0m\u001b[0;34m\u001b[0m\u001b[0m\n\u001b[1;32m   2467\u001b[0m         \u001b[0mreduction\u001b[0m \u001b[0;34m=\u001b[0m \u001b[0m_Reduction\u001b[0m\u001b[0;34m.\u001b[0m\u001b[0mlegacy_get_string\u001b[0m\u001b[0;34m(\u001b[0m\u001b[0msize_average\u001b[0m\u001b[0;34m,\u001b[0m \u001b[0mreduce\u001b[0m\u001b[0;34m)\u001b[0m\u001b[0;34m\u001b[0m\u001b[0;34m\u001b[0m\u001b[0m\n\u001b[0;32m-> 2468\u001b[0;31m     \u001b[0;32mreturn\u001b[0m \u001b[0mnll_loss\u001b[0m\u001b[0;34m(\u001b[0m\u001b[0mlog_softmax\u001b[0m\u001b[0;34m(\u001b[0m\u001b[0minput\u001b[0m\u001b[0;34m,\u001b[0m \u001b[0;36m1\u001b[0m\u001b[0;34m)\u001b[0m\u001b[0;34m,\u001b[0m \u001b[0mtarget\u001b[0m\u001b[0;34m,\u001b[0m \u001b[0mweight\u001b[0m\u001b[0;34m,\u001b[0m \u001b[0;32mNone\u001b[0m\u001b[0;34m,\u001b[0m \u001b[0mignore_index\u001b[0m\u001b[0;34m,\u001b[0m \u001b[0;32mNone\u001b[0m\u001b[0;34m,\u001b[0m \u001b[0mreduction\u001b[0m\u001b[0;34m)\u001b[0m\u001b[0;34m\u001b[0m\u001b[0;34m\u001b[0m\u001b[0m\n\u001b[0m\u001b[1;32m   2469\u001b[0m \u001b[0;34m\u001b[0m\u001b[0m\n\u001b[1;32m   2470\u001b[0m \u001b[0;34m\u001b[0m\u001b[0m\n",
      "\u001b[0;32m~/anaconda3/envs/py38/lib/python3.8/site-packages/torch/nn/functional.py\u001b[0m in \u001b[0;36mnll_loss\u001b[0;34m(input, target, weight, size_average, ignore_index, reduce, reduction)\u001b[0m\n\u001b[1;32m   2264\u001b[0m         \u001b[0mret\u001b[0m \u001b[0;34m=\u001b[0m \u001b[0mtorch\u001b[0m\u001b[0;34m.\u001b[0m\u001b[0m_C\u001b[0m\u001b[0;34m.\u001b[0m\u001b[0m_nn\u001b[0m\u001b[0;34m.\u001b[0m\u001b[0mnll_loss\u001b[0m\u001b[0;34m(\u001b[0m\u001b[0minput\u001b[0m\u001b[0;34m,\u001b[0m \u001b[0mtarget\u001b[0m\u001b[0;34m,\u001b[0m \u001b[0mweight\u001b[0m\u001b[0;34m,\u001b[0m \u001b[0m_Reduction\u001b[0m\u001b[0;34m.\u001b[0m\u001b[0mget_enum\u001b[0m\u001b[0;34m(\u001b[0m\u001b[0mreduction\u001b[0m\u001b[0;34m)\u001b[0m\u001b[0;34m,\u001b[0m \u001b[0mignore_index\u001b[0m\u001b[0;34m)\u001b[0m\u001b[0;34m\u001b[0m\u001b[0;34m\u001b[0m\u001b[0m\n\u001b[1;32m   2265\u001b[0m     \u001b[0;32melif\u001b[0m \u001b[0mdim\u001b[0m \u001b[0;34m==\u001b[0m \u001b[0;36m4\u001b[0m\u001b[0;34m:\u001b[0m\u001b[0;34m\u001b[0m\u001b[0;34m\u001b[0m\u001b[0m\n\u001b[0;32m-> 2266\u001b[0;31m         \u001b[0mret\u001b[0m \u001b[0;34m=\u001b[0m \u001b[0mtorch\u001b[0m\u001b[0;34m.\u001b[0m\u001b[0m_C\u001b[0m\u001b[0;34m.\u001b[0m\u001b[0m_nn\u001b[0m\u001b[0;34m.\u001b[0m\u001b[0mnll_loss2d\u001b[0m\u001b[0;34m(\u001b[0m\u001b[0minput\u001b[0m\u001b[0;34m,\u001b[0m \u001b[0mtarget\u001b[0m\u001b[0;34m,\u001b[0m \u001b[0mweight\u001b[0m\u001b[0;34m,\u001b[0m \u001b[0m_Reduction\u001b[0m\u001b[0;34m.\u001b[0m\u001b[0mget_enum\u001b[0m\u001b[0;34m(\u001b[0m\u001b[0mreduction\u001b[0m\u001b[0;34m)\u001b[0m\u001b[0;34m,\u001b[0m \u001b[0mignore_index\u001b[0m\u001b[0;34m)\u001b[0m\u001b[0;34m\u001b[0m\u001b[0;34m\u001b[0m\u001b[0m\n\u001b[0m\u001b[1;32m   2267\u001b[0m     \u001b[0;32melse\u001b[0m\u001b[0;34m:\u001b[0m\u001b[0;34m\u001b[0m\u001b[0;34m\u001b[0m\u001b[0m\n\u001b[1;32m   2268\u001b[0m         \u001b[0;31m# dim == 3 or dim > 4\u001b[0m\u001b[0;34m\u001b[0m\u001b[0;34m\u001b[0m\u001b[0;34m\u001b[0m\u001b[0m\n",
      "\u001b[0;31mRuntimeError\u001b[0m: Expected object of device type cuda but got device type cpu for argument #3 'weight' in call to _thnn_nll_loss2d_forward"
     ]
    }
   ],
   "source": [
    "PATH = 'trained_model_18.pth'\n",
    "model.to(torch.device('cuda'))\n",
    "model.load_state_dict(torch.load(PATH, map_location=device),  strict=False)\n",
    "\n",
    "# model.load_state_dict(checkpoint['state_dict'], strict=False)\n",
    "\n",
    "def model_val():\n",
    "    model.eval()\n",
    "\n",
    "    for i, (batch_x, batch_y) in enumerate(val_dataloader):\n",
    "        indata, target = batch_x.to(device), batch_y.to(device)\n",
    "        \n",
    "        with torch.no_grad():\n",
    "            indata = indata.unsqueeze(1)\n",
    "            out = model.forward(indata)\n",
    "            out_softmax = torch.softmax(out, 1)\n",
    "            img = postprocess(out_softmax)\n",
    "            \n",
    "            val_acc = iou(img, target)\n",
    "            \n",
    "            \n",
    "            \n",
    "            loss = criterion(out, target)\n",
    "            val_loss = loss.item()\n",
    "\n",
    "            print('acc={%f}, loss={%f}' % (val_acc, val_loss))\n",
    "\n",
    "            print_target_vs_out(target, img, indata.squeeze(1))\n",
    "\n",
    "\n",
    "def print_target_vs_out(target, outimg, x):\n",
    "    n_batch = x.shape[0]\n",
    "    fig = plt.figure()\n",
    "    for i in range(x.shape[0]):\n",
    "        ax1 = fig.add_subplot(n_batch, 3, i * 3 + 1)\n",
    "        ax1.imshow(x[i], cmap=\"gray\")\n",
    "        ax2 = fig.add_subplot(n_batch, 3, i * 3 + 2)\n",
    "        ax2.imshow(target[i], cmap=\"gray\")\n",
    "        ax3 = fig.add_subplot(n_batch, 3, i * 3 + 3)\n",
    "        ax3.imshow(outimg[i], cmap=\"gray\") \n",
    "    fig.show()\n",
    "           \n",
    "model_val()"
   ]
  },
  {
   "cell_type": "code",
   "execution_count": null,
   "metadata": {},
   "outputs": [],
   "source": []
  }
 ],
 "metadata": {
  "kernelspec": {
   "display_name": "py38",
   "language": "python",
   "name": "py38"
  },
  "language_info": {
   "codemirror_mode": {
    "name": "ipython",
    "version": 3
   },
   "file_extension": ".py",
   "mimetype": "text/x-python",
   "name": "python",
   "nbconvert_exporter": "python",
   "pygments_lexer": "ipython3",
   "version": "3.8.5"
  },
  "metadata": {
   "interpreter": {
    "hash": "778c709b60e40e6eabd44100ef7be5ae1872ed437ec46128456490bb70151712"
   }
  }
 },
 "nbformat": 4,
 "nbformat_minor": 4
}
