{
 "cells": [
  {
   "cell_type": "code",
   "execution_count": 1,
   "metadata": {},
   "outputs": [
    {
     "ename": "ModuleNotFoundError",
     "evalue": "No module named 'torch'",
     "output_type": "error",
     "traceback": [
      "\u001b[1;31m---------------------------------------------------------------------------\u001b[0m",
      "\u001b[1;31mModuleNotFoundError\u001b[0m                       Traceback (most recent call last)",
      "\u001b[1;32m<ipython-input-1-967e28488f39>\u001b[0m in \u001b[0;36m<module>\u001b[1;34m\u001b[0m\n\u001b[1;32m----> 1\u001b[1;33m \u001b[1;32mfrom\u001b[0m \u001b[0munet\u001b[0m \u001b[1;32mimport\u001b[0m \u001b[1;33m*\u001b[0m\u001b[1;33m\u001b[0m\u001b[1;33m\u001b[0m\u001b[0m\n\u001b[0m\u001b[0;32m      2\u001b[0m \u001b[1;32mfrom\u001b[0m \u001b[0msegmentation_dataset\u001b[0m \u001b[1;32mimport\u001b[0m \u001b[1;33m*\u001b[0m\u001b[1;33m\u001b[0m\u001b[1;33m\u001b[0m\u001b[0m\n\u001b[0;32m      3\u001b[0m \u001b[1;32mfrom\u001b[0m \u001b[0mload_data\u001b[0m \u001b[1;32mimport\u001b[0m \u001b[1;33m*\u001b[0m\u001b[1;33m\u001b[0m\u001b[1;33m\u001b[0m\u001b[0m\n",
      "\u001b[1;32m~\\Documents\\DL\\Project\\DD2424-Deep-Learning-Project-main\\unet.py\u001b[0m in \u001b[0;36m<module>\u001b[1;34m\u001b[0m\n\u001b[1;32m----> 1\u001b[1;33m \u001b[1;32mimport\u001b[0m \u001b[0mtorch\u001b[0m\u001b[1;33m\u001b[0m\u001b[1;33m\u001b[0m\u001b[0m\n\u001b[0m\u001b[0;32m      2\u001b[0m \u001b[1;32mimport\u001b[0m \u001b[0mtorch\u001b[0m\u001b[1;33m.\u001b[0m\u001b[0mnn\u001b[0m \u001b[1;32mas\u001b[0m \u001b[0mnn\u001b[0m\u001b[1;33m\u001b[0m\u001b[1;33m\u001b[0m\u001b[0m\n\u001b[0;32m      3\u001b[0m \u001b[1;33m\u001b[0m\u001b[0m\n\u001b[0;32m      4\u001b[0m \u001b[1;32mclass\u001b[0m \u001b[0mDoubleConv\u001b[0m\u001b[1;33m(\u001b[0m\u001b[0mnn\u001b[0m\u001b[1;33m.\u001b[0m\u001b[0mModule\u001b[0m\u001b[1;33m)\u001b[0m\u001b[1;33m:\u001b[0m\u001b[1;33m\u001b[0m\u001b[1;33m\u001b[0m\u001b[0m\n\u001b[0;32m      5\u001b[0m     \u001b[1;32mdef\u001b[0m \u001b[0m__init__\u001b[0m\u001b[1;33m(\u001b[0m\u001b[0mself\u001b[0m\u001b[1;33m,\u001b[0m \u001b[0mn_channels\u001b[0m\u001b[1;33m,\u001b[0m \u001b[0mmid_channels\u001b[0m\u001b[1;33m,\u001b[0m\u001b[0mfirst_layer\u001b[0m\u001b[1;33m=\u001b[0m\u001b[1;32mFalse\u001b[0m\u001b[1;33m)\u001b[0m\u001b[1;33m:\u001b[0m\u001b[1;33m\u001b[0m\u001b[1;33m\u001b[0m\u001b[0m\n",
      "\u001b[1;31mModuleNotFoundError\u001b[0m: No module named 'torch'"
     ]
    }
   ],
   "source": [
    "from unet import *\n",
    "from segmentation_dataset import *\n",
    "from load_data import *\n"
   ]
  },
  {
   "cell_type": "code",
   "execution_count": null,
   "metadata": {},
   "outputs": [],
   "source": [
    "#dataloader code\n",
    "\n",
    "import os\n",
    "from torch.utils.data import DataLoader\n",
    "from segmentation_dataset import SegmentationDataset\n",
    "import matplotlib.pyplot as plt\n",
    "import numpy as np\n",
    "import torch\n",
    "\n",
    "from torchvision import datasets, transforms\n",
    "\n",
    "def listdir_nohidden(path):\n",
    "    for f in os.listdir(path):\n",
    "        if not f.startswith('.'):\n",
    "            yield f\n",
    "\n",
    "train_path = \"small_dataset/images/nir/\"\n",
    "train_labels_path = \"small_dataset/labels/\"\n",
    "\n",
    "train_img_names_index = os.listdir(train_path)\n",
    "\n",
    "labels_one_hot = {}\n",
    "k = 9\n",
    "for i, label in enumerate(listdir_nohidden(train_labels_path)):\n",
    "    labels_one_hot[label] = np.zeros((k,))\n",
    "    labels_one_hot[label][i] = 1\n",
    "\n",
    "dataset = SegmentationDataset(train_img_names_index, labels_one_hot)\n",
    " \n",
    "batch_size = 1\n",
    "shuffle = True\n",
    "dataloader = DataLoader(dataset, batch_size=batch_size, shuffle=shuffle)\n",
    "\n",
    "image, label = next(iter(dataloader))\n",
    "print(image)\n",
    "print(label)\n",
    "print(torch.unique(label))\n",
    "\n",
    "plt.imshow(image[0], cmap='gray')\n",
    "plt.show()\n",
    "plt.imshow(label[0], cmap='gray')\n",
    "plt.show()\n",
    "\n",
    "print(\"finished\")"
   ]
  },
  {
   "cell_type": "code",
   "execution_count": null,
   "metadata": {},
   "outputs": [],
   "source": [
    "#SETTINGS\n",
    "Use_GPU = \"True\"\n",
    "Lr = 0.01\n",
    "channels = 512*512 #pixels\n",
    "classes = 10 #outputs \n",
    "maxEpochs = 100\n",
    "batch_size = 1\n",
    "shuffle = True\n",
    "\n",
    "trainValRate = 0.7 #not in use\n",
    "lrRatesplan = None #not in use\n",
    "activation = \"relu\" #not in use \n",
    "criterion = torch.nn.CrossEntropyLoss()\n",
    "optimizer = torch.optim.SGD(model.parameters(), Lr)\n",
    "\n",
    "#Code \n",
    "\n",
    "if UseGPU: \n",
    "    if torch.cuda.is_available():\n",
    "        device = torch.device('cuda')\n",
    "    else:\n",
    "        torch.device('cpu')\n",
    "\n",
    "#initalize model \n",
    "\n",
    "#fix activationfunc, dropout and other settings for model as parameters later \n",
    "\n",
    "model = Unet(channels, classes).to(device)\n",
    "\n",
    "#two different filepaths\n",
    "pathTrain = \"Agriculture-Vision-2021\\train\"\n",
    "pathVal = \"Agriculture-Vision-2021\\val\"\n",
    "\n",
    "trainX = DataLoader(dataset, batch_size=batch_size, shuffle=shuffle)\n",
    "validateX = DataLoader(dataset, batch_size=batch_size, shuffle=shuffle)\n",
    "\n",
    "trainY = SegmentationDataset(train_img_names_index, labels_one_hot)\n",
    "validateY = SegmentationDataset(train_img_names_index, labels_one_hot)\n"
   ]
  },
  {
   "cell_type": "code",
   "execution_count": null,
   "metadata": {},
   "outputs": [],
   "source": [
    "#trainer class/object?\n",
    "\n",
    "from tqdm import tqdm, trange\n",
    "\n",
    "trainingLoss = []\n",
    "validationLoss = []\n",
    "\n",
    "def itterProgress(x, text = \"training\"):\n",
    "    return tqdm(enumerate(x), text, total = len(x))\n",
    "\n",
    "def run: \n",
    "    itter = itterProgress(trainX)\n",
    "    for i in range(maxEpochs):      \n",
    "\n",
    "def train: \n",
    "    \n",
    "    model.train() #does this even work? \n",
    "    for i \n",
    "    \n",
    "def validate: \n"
   ]
  },
  {
   "cell_type": "code",
   "execution_count": null,
   "metadata": {},
   "outputs": [],
   "source": []
  }
 ],
 "metadata": {
  "kernelspec": {
   "display_name": "Python 3",
   "language": "python",
   "name": "python3"
  },
  "language_info": {
   "codemirror_mode": {
    "name": "ipython",
    "version": 3
   },
   "file_extension": ".py",
   "mimetype": "text/x-python",
   "name": "python",
   "nbconvert_exporter": "python",
   "pygments_lexer": "ipython3",
   "version": "3.8.3"
  }
 },
 "nbformat": 4,
 "nbformat_minor": 4
}
